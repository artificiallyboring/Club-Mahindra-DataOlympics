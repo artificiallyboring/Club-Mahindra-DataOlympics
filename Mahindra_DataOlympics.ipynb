{
 "cells": [
  {
   "cell_type": "code",
   "execution_count": null,
   "metadata": {
    "colab": {
     "base_uri": "https://localhost:8080/",
     "height": 34
    },
    "colab_type": "code",
    "id": "bWCP5KkjAXf_",
    "outputId": "430c7cae-ea15-4a66-df0c-9c44f8b68142"
   },
   "outputs": [],
   "source": [
    "from google.colab import drive\n",
    "drive.mount('/content/gdrive')"
   ]
  },
  {
   "cell_type": "code",
   "execution_count": null,
   "metadata": {
    "colab": {
     "base_uri": "https://localhost:8080/",
     "height": 34
    },
    "colab_type": "code",
    "id": "vAHc_pjFo4xY",
    "outputId": "3d415afa-6114-4bd3-8b76-ffbf739779d7"
   },
   "outputs": [],
   "source": [
    "cd /content/gdrive/My Drive/Colab Notebooks/Club Mahindra DataOlympics"
   ]
  },
  {
   "cell_type": "code",
   "execution_count": null,
   "metadata": {
    "colab": {},
    "colab_type": "code",
    "id": "p_HspvIOpc61"
   },
   "outputs": [],
   "source": [
    "import pandas as pd\n",
    "import numpy as np"
   ]
  },
  {
   "cell_type": "code",
   "execution_count": null,
   "metadata": {
    "colab": {},
    "colab_type": "code",
    "id": "u2S_VEuwu6Jm"
   },
   "outputs": [],
   "source": [
    "train = pd.read_csv('train.csv')\n",
    "test = pd.read_csv('test.csv')"
   ]
  },
  {
   "cell_type": "code",
   "execution_count": null,
   "metadata": {
    "colab": {
     "base_uri": "https://localhost:8080/",
     "height": 253
    },
    "colab_type": "code",
    "id": "QOGYC1ovvO4f",
    "outputId": "6241b45f-ce33-4031-b502-d6cace245840"
   },
   "outputs": [],
   "source": [
    "train.head()"
   ]
  },
  {
   "cell_type": "code",
   "execution_count": null,
   "metadata": {
    "colab": {
     "base_uri": "https://localhost:8080/",
     "height": 253
    },
    "colab_type": "code",
    "id": "02cd1ByhBSX4",
    "outputId": "c4e862db-f881-41da-a224-bac13576df4c"
   },
   "outputs": [],
   "source": [
    "test.head()"
   ]
  },
  {
   "cell_type": "code",
   "execution_count": null,
   "metadata": {
    "colab": {
     "base_uri": "https://localhost:8080/",
     "height": 51
    },
    "colab_type": "code",
    "id": "d5VWW-JVBVEh",
    "outputId": "c9950ce8-a020-4925-e864-c4ff12e1c76f"
   },
   "outputs": [],
   "source": [
    "print(train.shape)\n",
    "print(test.shape)"
   ]
  },
  {
   "cell_type": "code",
   "execution_count": null,
   "metadata": {
    "colab": {},
    "colab_type": "code",
    "id": "334wYzYqvbGg"
   },
   "outputs": [],
   "source": [
    "from datetime import date\n",
    "\n",
    "def days(chkin, chkout):\n",
    "\n",
    "  ndays = []\n",
    "\n",
    "  for i in range(len(chkin)):\n",
    "\n",
    "    date_format = \"%d/%m/%Y\"\n",
    "    d1, m1, y1 = int(chkin[i].split('/')[0]), int(chkin[i].split('/')[1]), int(chkin[i].split('/')[2])\n",
    "    d2, m2, y2 = int(chkout[i].split('/')[0]), int(chkout[i].split('/')[1]), int(chkout[i].split('/')[2])\n",
    "\n",
    "    date1 = date(y1, m1, d1)\n",
    "    date2 = date(y2, m2, d2)\n",
    "\n",
    "    difference = date2 - date1\n",
    "    \n",
    "    temp = [int(t) for t in str(difference).split() if t.isdigit()]\n",
    "    if len(temp) == 0:\n",
    "      ndays.append(0)\n",
    "    else:\n",
    "      ndays.append(temp[0])\n",
    "  return ndays"
   ]
  },
  {
   "cell_type": "code",
   "execution_count": null,
   "metadata": {
    "colab": {},
    "colab_type": "code",
    "id": "M-YUCEZcg7Ri"
   },
   "outputs": [],
   "source": [
    "train_advance = days(train['booking_date'], train['checkin_date'])\n",
    "test_advance = days(test['booking_date'], test['checkin_date'])"
   ]
  },
  {
   "cell_type": "code",
   "execution_count": null,
   "metadata": {
    "colab": {},
    "colab_type": "code",
    "id": "fd_9wAVKwlGC"
   },
   "outputs": [],
   "source": [
    "train_ndays = days(train['checkin_date'], train['checkout_date'])\n",
    "test_ndays = days(test['checkin_date'], test['checkout_date'])"
   ]
  },
  {
   "cell_type": "code",
   "execution_count": null,
   "metadata": {
    "colab": {},
    "colab_type": "code",
    "id": "bxK7aSb08_BI"
   },
   "outputs": [],
   "source": [
    "train.insert(2, \"no_of_days_stay\", train_ndays)\n",
    "test.insert(2, \"no_of_days_stay\", test_ndays)"
   ]
  },
  {
   "cell_type": "code",
   "execution_count": null,
   "metadata": {
    "colab": {},
    "colab_type": "code",
    "id": "WuaFASvhh5oX"
   },
   "outputs": [],
   "source": [
    "train.insert(2, \"no_of_days_advance\", train_ndays)\n",
    "test.insert(2, \"no_of_days_advance\", test_ndays)"
   ]
  },
  {
   "cell_type": "code",
   "execution_count": null,
   "metadata": {
    "colab": {},
    "colab_type": "code",
    "id": "ocYlgYFYxj_h"
   },
   "outputs": [],
   "source": [
    "train = train.drop(['reservation_id', 'booking_date', 'checkin_date', 'checkout_date', 'memberid'], axis = 1)\n",
    "test = test.drop(['reservation_id', 'booking_date', 'checkin_date', 'checkout_date', 'memberid'], axis = 1)"
   ]
  },
  {
   "cell_type": "code",
   "execution_count": null,
   "metadata": {
    "colab": {
     "base_uri": "https://localhost:8080/",
     "height": 204
    },
    "colab_type": "code",
    "id": "U7dQASig1aQk",
    "outputId": "dbe91901-735f-4bf3-cf67-2f3e52305976"
   },
   "outputs": [],
   "source": [
    "train['member_age_buckets'].value_counts()"
   ]
  },
  {
   "cell_type": "code",
   "execution_count": null,
   "metadata": {
    "colab": {
     "base_uri": "https://localhost:8080/",
     "height": 204
    },
    "colab_type": "code",
    "id": "W3UVqdEoMOf4",
    "outputId": "e60f7d88-8f4b-4c43-c1b5-ce4964006819"
   },
   "outputs": [],
   "source": [
    "test['member_age_buckets'].value_counts()"
   ]
  },
  {
   "cell_type": "code",
   "execution_count": null,
   "metadata": {
    "colab": {},
    "colab_type": "code",
    "id": "mjr2lGfD5F9o"
   },
   "outputs": [],
   "source": [
    "from sklearn.preprocessing import LabelEncoder\n",
    "le = LabelEncoder()\n",
    "train['member_age_buckets'] = le.fit_transform(train['member_age_buckets']) \n",
    "test['member_age_buckets'] = le.fit_transform(test['member_age_buckets'])"
   ]
  },
  {
   "cell_type": "code",
   "execution_count": null,
   "metadata": {
    "colab": {
     "base_uri": "https://localhost:8080/",
     "height": 204
    },
    "colab_type": "code",
    "id": "2eaHfUv9NBi1",
    "outputId": "28df4415-f4e5-4b35-8fde-b8c1e7ee5940"
   },
   "outputs": [],
   "source": [
    "train['member_age_buckets'].value_counts()"
   ]
  },
  {
   "cell_type": "code",
   "execution_count": null,
   "metadata": {
    "colab": {
     "base_uri": "https://localhost:8080/",
     "height": 204
    },
    "colab_type": "code",
    "id": "g_Zm47keNEpY",
    "outputId": "2817339e-ac22-4c90-e9ae-2bdd66255285"
   },
   "outputs": [],
   "source": [
    "test['member_age_buckets'].value_counts()"
   ]
  },
  {
   "cell_type": "code",
   "execution_count": null,
   "metadata": {
    "colab": {
     "base_uri": "https://localhost:8080/",
     "height": 136
    },
    "colab_type": "code",
    "id": "4v3glqApNG5w",
    "outputId": "3feb501b-bd30-4937-dea1-7e22d0577965"
   },
   "outputs": [],
   "source": [
    "train['cluster_code'].value_counts()"
   ]
  },
  {
   "cell_type": "code",
   "execution_count": null,
   "metadata": {
    "colab": {
     "base_uri": "https://localhost:8080/",
     "height": 136
    },
    "colab_type": "code",
    "id": "jxnlBC_KNRgV",
    "outputId": "556f1ff2-97da-4c20-e123-eb0e2444792d"
   },
   "outputs": [],
   "source": [
    "test['cluster_code'].value_counts()"
   ]
  },
  {
   "cell_type": "code",
   "execution_count": null,
   "metadata": {
    "colab": {},
    "colab_type": "code",
    "id": "2uhIyzgTosdl"
   },
   "outputs": [],
   "source": [
    "train['cluster_code'] = le.fit_transform(train['cluster_code']) \n",
    "test['cluster_code'] = le.fit_transform(test['cluster_code'])"
   ]
  },
  {
   "cell_type": "code",
   "execution_count": null,
   "metadata": {
    "colab": {
     "base_uri": "https://localhost:8080/",
     "height": 136
    },
    "colab_type": "code",
    "id": "_SMJ_cKxNoGs",
    "outputId": "36c96ff9-fb63-472d-b72d-9fe6170a3846"
   },
   "outputs": [],
   "source": [
    "train['cluster_code'].value_counts()"
   ]
  },
  {
   "cell_type": "code",
   "execution_count": null,
   "metadata": {
    "colab": {
     "base_uri": "https://localhost:8080/",
     "height": 136
    },
    "colab_type": "code",
    "id": "5pAfoMpTN5UI",
    "outputId": "5c22f27f-c2be-40fe-f8bc-bdf70aae87d9"
   },
   "outputs": [],
   "source": [
    "test['cluster_code'].value_counts()"
   ]
  },
  {
   "cell_type": "code",
   "execution_count": null,
   "metadata": {
    "colab": {
     "base_uri": "https://localhost:8080/",
     "height": 102
    },
    "colab_type": "code",
    "id": "FjYXRrx9N6Pz",
    "outputId": "a779be58-e46d-471b-d9ec-5f37b30ca964"
   },
   "outputs": [],
   "source": [
    "train['reservationstatusid_code'].value_counts()"
   ]
  },
  {
   "cell_type": "code",
   "execution_count": null,
   "metadata": {
    "colab": {
     "base_uri": "https://localhost:8080/",
     "height": 85
    },
    "colab_type": "code",
    "id": "o2J91n9sOM8l",
    "outputId": "881ee096-e535-46a8-9171-0aaf53ec9983"
   },
   "outputs": [],
   "source": [
    "test['reservationstatusid_code'].value_counts()"
   ]
  },
  {
   "cell_type": "code",
   "execution_count": null,
   "metadata": {
    "colab": {},
    "colab_type": "code",
    "id": "1N71e65LOSIN"
   },
   "outputs": [],
   "source": [
    "train['reservationstatusid_code'] = le.fit_transform(train['reservationstatusid_code'])\n",
    "test['reservationstatusid_code'] = le.fit_transform(test['reservationstatusid_code'])"
   ]
  },
  {
   "cell_type": "code",
   "execution_count": null,
   "metadata": {
    "colab": {
     "base_uri": "https://localhost:8080/",
     "height": 102
    },
    "colab_type": "code",
    "id": "ShITG6FEOiha",
    "outputId": "db621a4a-11bb-4fa2-b8cd-766f0a0332a1"
   },
   "outputs": [],
   "source": [
    "train['reservationstatusid_code'].value_counts()"
   ]
  },
  {
   "cell_type": "code",
   "execution_count": null,
   "metadata": {
    "colab": {
     "base_uri": "https://localhost:8080/",
     "height": 85
    },
    "colab_type": "code",
    "id": "Gz2OB9zVOmwr",
    "outputId": "5ff7ed76-3fec-4878-a4c9-15fd86d45dad"
   },
   "outputs": [],
   "source": [
    "test['reservationstatusid_code'].value_counts()"
   ]
  },
  {
   "cell_type": "code",
   "execution_count": null,
   "metadata": {
    "colab": {
     "base_uri": "https://localhost:8080/",
     "height": 578
    },
    "colab_type": "code",
    "id": "P-5rvj76OohH",
    "outputId": "e3b3da13-9dee-4a71-e481-5bdd7a8081a7"
   },
   "outputs": [],
   "source": [
    "train['resort_id'].value_counts()"
   ]
  },
  {
   "cell_type": "code",
   "execution_count": null,
   "metadata": {
    "colab": {
     "base_uri": "https://localhost:8080/",
     "height": 578
    },
    "colab_type": "code",
    "id": "0jk9zNUYOzHS",
    "outputId": "b4c09f8d-5bf9-44a7-e71f-1a067d9793d2"
   },
   "outputs": [],
   "source": [
    "test['resort_id'].value_counts()"
   ]
  },
  {
   "cell_type": "code",
   "execution_count": null,
   "metadata": {
    "colab": {},
    "colab_type": "code",
    "id": "YSnq2yYfuOni"
   },
   "outputs": [],
   "source": [
    "train['resort_id']=le.fit_transform(train['resort_id'])\n",
    "test['resort_id']=le.fit_transform(test['resort_id'])"
   ]
  },
  {
   "cell_type": "code",
   "execution_count": null,
   "metadata": {
    "colab": {
     "base_uri": "https://localhost:8080/",
     "height": 578
    },
    "colab_type": "code",
    "id": "PtfwzJ3RSdgL",
    "outputId": "a44d1508-4511-4028-d385-99486b30b441"
   },
   "outputs": [],
   "source": [
    "train['resort_id'].value_counts()"
   ]
  },
  {
   "cell_type": "code",
   "execution_count": null,
   "metadata": {
    "colab": {
     "base_uri": "https://localhost:8080/",
     "height": 578
    },
    "colab_type": "code",
    "id": "9IW9G8mASl4B",
    "outputId": "a83d9857-2552-491a-c7a0-ca6b9af716e5"
   },
   "outputs": [],
   "source": [
    "test['resort_id'].value_counts()"
   ]
  },
  {
   "cell_type": "code",
   "execution_count": null,
   "metadata": {
    "colab": {
     "base_uri": "https://localhost:8080/",
     "height": 253
    },
    "colab_type": "code",
    "id": "H9Fow1crSqGO",
    "outputId": "5a24f081-a650-4500-d69b-a334ef566536"
   },
   "outputs": [],
   "source": [
    "train.head()"
   ]
  },
  {
   "cell_type": "code",
   "execution_count": null,
   "metadata": {
    "colab": {
     "base_uri": "https://localhost:8080/",
     "height": 224
    },
    "colab_type": "code",
    "id": "4Y5LYPO_S-QG",
    "outputId": "cb9d6437-d5ae-4b6a-b13c-0cc38fd8c79f"
   },
   "outputs": [],
   "source": [
    "test.head()"
   ]
  },
  {
   "cell_type": "code",
   "execution_count": null,
   "metadata": {
    "colab": {
     "base_uri": "https://localhost:8080/",
     "height": 391
    },
    "colab_type": "code",
    "id": "Z3Usf3axWKYM",
    "outputId": "e78808ef-7b0a-454c-ad7a-6f4b900270c6"
   },
   "outputs": [],
   "source": [
    "train.isnull().sum()             #finding the missing values in train"
   ]
  },
  {
   "cell_type": "code",
   "execution_count": null,
   "metadata": {
    "colab": {
     "base_uri": "https://localhost:8080/",
     "height": 374
    },
    "colab_type": "code",
    "id": "BZtLFLm9bNhr",
    "outputId": "eb72ccaa-eb38-4026-90d2-5257fe4bfc93"
   },
   "outputs": [],
   "source": [
    "test.isnull().sum()             #finding the missing values in test"
   ]
  },
  {
   "cell_type": "code",
   "execution_count": null,
   "metadata": {
    "colab": {},
    "colab_type": "code",
    "id": "EELtiMwAfbw8"
   },
   "outputs": [],
   "source": [
    "train['season_holidayed_code'].fillna((train['season_holidayed_code'].mean()), inplace=True)\n",
    "test['season_holidayed_code'].fillna((test['season_holidayed_code'].mean()), inplace=True)"
   ]
  },
  {
   "cell_type": "code",
   "execution_count": null,
   "metadata": {
    "colab": {},
    "colab_type": "code",
    "id": "kANDAiRhfatt"
   },
   "outputs": [],
   "source": [
    "train['state_code_residence'].fillna((train['state_code_residence'].mean()), inplace=True)\n",
    "test['state_code_residence'].fillna((test['state_code_residence'].mean()), inplace=True)"
   ]
  },
  {
   "cell_type": "code",
   "execution_count": null,
   "metadata": {
    "colab": {
     "base_uri": "https://localhost:8080/",
     "height": 391
    },
    "colab_type": "code",
    "id": "v2pNeJ484XsI",
    "outputId": "db727e8b-795f-4c4c-942b-cd627dd4f521"
   },
   "outputs": [],
   "source": [
    "train.isnull().sum()"
   ]
  },
  {
   "cell_type": "code",
   "execution_count": null,
   "metadata": {
    "colab": {
     "base_uri": "https://localhost:8080/",
     "height": 374
    },
    "colab_type": "code",
    "id": "lY0LDjpxfjum",
    "outputId": "ac76cd03-84da-4c57-8afe-acfd8cb7c69a"
   },
   "outputs": [],
   "source": [
    "test.isnull().sum()"
   ]
  },
  {
   "cell_type": "code",
   "execution_count": null,
   "metadata": {
    "colab": {
     "base_uri": "https://localhost:8080/",
     "height": 153
    },
    "colab_type": "code",
    "id": "c76cCxCKfxfG",
    "outputId": "d3224ae5-31e3-4182-fb32-e2807025ed91"
   },
   "outputs": [],
   "source": [
    "!pip install catboost"
   ]
  },
  {
   "cell_type": "code",
   "execution_count": null,
   "metadata": {
    "colab": {
     "base_uri": "https://localhost:8080/",
     "height": 34
    },
    "colab_type": "code",
    "id": "XIAvqaYcf2DC",
    "outputId": "1c28d8eb-4ade-4289-e411-65256be7274f"
   },
   "outputs": [],
   "source": [
    "Y = train.iloc[:, -1]\n",
    "Y.shape"
   ]
  },
  {
   "cell_type": "code",
   "execution_count": null,
   "metadata": {
    "colab": {
     "base_uri": "https://localhost:8080/",
     "height": 34
    },
    "colab_type": "code",
    "id": "5KXul950hYIs",
    "outputId": "51f2d64a-6620-4a09-f943-1c0a4da42add"
   },
   "outputs": [],
   "source": [
    "X = train.drop(['amount_spent_per_room_night_scaled'], axis = 1)\n",
    "X.shape"
   ]
  },
  {
   "cell_type": "code",
   "execution_count": null,
   "metadata": {
    "colab": {},
    "colab_type": "code",
    "id": "moh6aQRRhlXj"
   },
   "outputs": [],
   "source": [
    "X_test = test"
   ]
  },
  {
   "cell_type": "code",
   "execution_count": null,
   "metadata": {
    "colab": {
     "base_uri": "https://localhost:8080/",
     "height": 34
    },
    "colab_type": "code",
    "id": "c11a2RkXhvWI",
    "outputId": "6d4173b6-8d50-485c-e3fc-be69586dd76b"
   },
   "outputs": [],
   "source": [
    "X_test.shape"
   ]
  },
  {
   "cell_type": "code",
   "execution_count": null,
   "metadata": {
    "colab": {},
    "colab_type": "code",
    "id": "DfCBCua1hxiK"
   },
   "outputs": [],
   "source": [
    "from sklearn.model_selection import train_test_split\n",
    "\n",
    "X_train, X_valid, Y_train, Y_valid = train_test_split(X, Y, test_size = 0.2, random_state = 0)"
   ]
  },
  {
   "cell_type": "code",
   "execution_count": null,
   "metadata": {
    "colab": {
     "base_uri": "https://localhost:8080/",
     "height": 153
    },
    "colab_type": "code",
    "id": "0B4wVfP9iJEj",
    "outputId": "9054063e-7aeb-4341-e140-26ba0fd31000"
   },
   "outputs": [],
   "source": [
    "from sklearn.preprocessing import StandardScaler\n",
    "\n",
    "scalar = StandardScaler()\n",
    "X_train = scalar.fit_transform(X_train)\n",
    "X_valid = scalar.transform(X_valid)\n",
    "X_test = scalar.transform(X_test)"
   ]
  },
  {
   "cell_type": "code",
   "execution_count": null,
   "metadata": {},
   "outputs": [],
   "source": [
    "!pip install catboost"
   ]
  },
  {
   "cell_type": "code",
   "execution_count": null,
   "metadata": {
    "colab": {},
    "colab_type": "code",
    "id": "FL4TwTw8k7av"
   },
   "outputs": [],
   "source": [
    "from catboost import CatBoostRegressor\n",
    "\n",
    "model=CatBoostRegressor(iterations=15000, depth=5, learning_rate=0.01, loss_function='RMSE')"
   ]
  },
  {
   "cell_type": "code",
   "execution_count": null,
   "metadata": {
    "colab": {
     "base_uri": "https://localhost:8080/"
    },
    "colab_type": "code",
    "id": "VUh0R2qkl_-F",
    "outputId": "d00cb882-1a90-4e8a-caea-67b18ff1ec93"
   },
   "outputs": [],
   "source": [
    "model.fit(X_train, Y_train,eval_set=(X_valid, Y_valid),plot=True)"
   ]
  },
  {
   "cell_type": "code",
   "execution_count": null,
   "metadata": {
    "colab": {},
    "colab_type": "code",
    "id": "AqN3Zca4mBeX"
   },
   "outputs": [],
   "source": [
    "Y_test = model.predict(X_test)"
   ]
  },
  {
   "cell_type": "code",
   "execution_count": null,
   "metadata": {
    "colab": {
     "base_uri": "https://localhost:8080/",
     "height": 180
    },
    "colab_type": "code",
    "id": "DRXahV9ow-Kk",
    "outputId": "c1431b97-6a13-431b-e8d4-e209afe8c567"
   },
   "outputs": [],
   "source": [
    "final_submit = pd.read_csv('sample_submission.csv')\n",
    "final_submit = final_submit.drop(['amount_spent_per_room_night_scaled'], axis = 1)"
   ]
  },
  {
   "cell_type": "code",
   "execution_count": null,
   "metadata": {
    "colab": {},
    "colab_type": "code",
    "id": "tMiu2h7ow-dT"
   },
   "outputs": [],
   "source": [
    "final_submit.insert(1, 'amount_spent_per_room_night_scaled', Y_test)"
   ]
  },
  {
   "cell_type": "code",
   "execution_count": null,
   "metadata": {
    "colab": {},
    "colab_type": "code",
    "id": "sCOHrUZuo412"
   },
   "outputs": [],
   "source": [
    "final_submit.to_csv('final.csv', index = False)"
   ]
  },
  {
   "cell_type": "code",
   "execution_count": null,
   "metadata": {
    "colab": {},
    "colab_type": "code",
    "id": "hct9hdSIxv-V"
   },
   "outputs": [],
   "source": [
    "from google.colab import files\n",
    "files.download('final.csv')"
   ]
  }
 ],
 "metadata": {
  "accelerator": "GPU",
  "colab": {
   "collapsed_sections": [],
   "name": "Mahindra DataOlympics.ipynb",
   "provenance": [],
   "version": "0.3.2"
  },
  "kernelspec": {
   "display_name": "Python 3",
   "language": "python",
   "name": "python3"
  },
  "language_info": {
   "codemirror_mode": {
    "name": "ipython",
    "version": 3
   },
   "file_extension": ".py",
   "mimetype": "text/x-python",
   "name": "python",
   "nbconvert_exporter": "python",
   "pygments_lexer": "ipython3",
   "version": "3.7.2"
  }
 },
 "nbformat": 4,
 "nbformat_minor": 1
}
